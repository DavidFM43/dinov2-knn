{
 "cells": [
  {
   "cell_type": "code",
   "execution_count": 20,
   "metadata": {},
   "outputs": [],
   "source": [
    "import numpy as np\n",
    "import pickle\n",
    "import gzip\n",
    "import cca_core\n",
    "from CKA import linear_CKA, kernel_CKA\n",
    "\n",
    "import torch\n",
    "import math\n",
    "\n",
    "\n",
    "import torch.nn as nn\n",
    "import torch.nn.functional as F\n",
    "\n",
    "from utils import factory\n",
    "from utils.data_manager import DataManager\n",
    "from torch.utils.data import DataLoader"
   ]
  },
  {
   "cell_type": "markdown",
   "metadata": {},
   "source": [
    "### Cargamos los argumentos"
   ]
  },
  {
   "cell_type": "code",
   "execution_count": 1,
   "metadata": {},
   "outputs": [
    {
     "name": "stderr",
     "output_type": "stream",
     "text": [
      "/home/emendezc/miniconda3/envs/cil/lib/python3.9/site-packages/tqdm/auto.py:21: TqdmWarning: IProgress not found. Please update jupyter and ipywidgets. See https://ipywidgets.readthedocs.io/en/stable/user_install.html\n",
      "  from .autonotebook import tqdm as notebook_tqdm\n"
     ]
    },
    {
     "name": "stdout",
     "output_type": "stream",
     "text": [
      "{'prefix': 'reproduce', 'dataset': 'cifar10', 'memory_size': 2000, 'memory_per_class': 20, 'fixed_memory': False, 'shuffle': True, 'init_cls': 5, 'increment': 5, 'model_name': 'finetune', 'convnet_type': 'resnet32', 'device': ['0'], 'seed': [1993], 'second_task_freeze_stage': 0, 'logfilename': 'experiment_freeze', 'config': './exps/finetune.json'}\n"
     ]
    }
   ],
   "source": [
    "import json\n",
    "import argparse\n",
    "from trainer import train\n",
    "\n",
    "\n",
    "import json\n",
    "import argparse\n",
    "\n",
    "def main(dataset=\"cifar10\", model_name=\"finetune\", convnet_type=\"resnet32\",\n",
    "         second_task_freeze_stage=0, logfilename=\"experiment_freeze\"):\n",
    "    # Simulando la obtención de argumentos desde argparse\n",
    "    class Args:\n",
    "        pass\n",
    "    \n",
    "    args = Args()\n",
    "    args.dataset = dataset\n",
    "    args.model_name = model_name\n",
    "    args.convnet_type = convnet_type\n",
    "    args.second_task_freeze_stage = second_task_freeze_stage\n",
    "    args.logfilename = logfilename\n",
    "    args.config = \"./exps/finetune.json\"\n",
    "    \n",
    "    param = load_json(args.config)\n",
    "    args = vars(args)  # Convirtiendo los argumentos a un diccionario.\n",
    "    param.update(args)\n",
    "    return param  # Puedes hacer lo que necesites con los parámetros aquí\n",
    "\n",
    "def load_json(settings_path):\n",
    "    with open(settings_path) as data_file:\n",
    "        param = json.load(data_file)\n",
    "    return param\n",
    "\n",
    "# Ejecución del programa con valores predeterminados\n",
    "args = main()\n",
    "\n",
    "print(args)"
   ]
  },
  {
   "cell_type": "markdown",
   "metadata": {},
   "source": [
    "### Cargemos los modelos"
   ]
  },
  {
   "cell_type": "code",
   "execution_count": 4,
   "metadata": {},
   "outputs": [],
   "source": [
    "model_task_0 = torch.load('logs/finetune/experiment_freeze_stage/w0_stage_0.pth')\n",
    "\n",
    "model_task_1 = torch.load('logs/finetune/experiment_freeze_stage/w1_stage_0.pth')"
   ]
  },
  {
   "cell_type": "code",
   "execution_count": 5,
   "metadata": {},
   "outputs": [],
   "source": [
    "del model_task_0['fc.weight']; del model_task_0['fc.bias']\n",
    "del model_task_1['fc.weight']; del model_task_1['fc.bias']"
   ]
  },
  {
   "cell_type": "markdown",
   "metadata": {},
   "source": [
    "### Cargamos los parametros del modelos en la red"
   ]
  },
  {
   "cell_type": "code",
   "execution_count": 6,
   "metadata": {},
   "outputs": [],
   "source": [
    "model_1 = factory.get_model(args[\"model_name\"], args)\n",
    "model_2 = factory.get_model(args[\"model_name\"], args)\n"
   ]
  },
  {
   "cell_type": "code",
   "execution_count": 7,
   "metadata": {},
   "outputs": [
    {
     "data": {
      "text/plain": [
       "<All keys matched successfully>"
      ]
     },
     "execution_count": 7,
     "metadata": {},
     "output_type": "execute_result"
    }
   ],
   "source": [
    "model_1._network.load_state_dict(model_task_0)\n",
    "model_2._network.load_state_dict(model_task_1)"
   ]
  },
  {
   "cell_type": "markdown",
   "metadata": {},
   "source": [
    "### Cargamos el entrenamiento"
   ]
  },
  {
   "cell_type": "code",
   "execution_count": 22,
   "metadata": {},
   "outputs": [
    {
     "name": "stdout",
     "output_type": "stream",
     "text": [
      "Files already downloaded and verified\n",
      "Files already downloaded and verified\n"
     ]
    }
   ],
   "source": [
    "# self._total_classes\n",
    "\n",
    "data_manager = DataManager(\n",
    "    args[\"dataset\"],\n",
    "    args[\"shuffle\"],\n",
    "    args[\"seed\"],\n",
    "    args[\"init_cls\"],\n",
    "    args[\"increment\"],\n",
    "    args[\"second_task_freeze_stage\"]\n",
    ")\n",
    "\n",
    "test_dataset = data_manager.get_dataset(\n",
    "    np.arange(0, 10), source=\"test\", mode=\"test\"\n",
    ")\n",
    "\n",
    "test_loader = DataLoader(\n",
    "    test_dataset, batch_size=10_000, shuffle=False, num_workers=8\n",
    ")"
   ]
  },
  {
   "cell_type": "markdown",
   "metadata": {},
   "source": [
    "### Extractor from stage"
   ]
  },
  {
   "cell_type": "code",
   "execution_count": 25,
   "metadata": {},
   "outputs": [],
   "source": [
    "for i, (_, inputs, targets) in enumerate(test_loader):\n",
    "    #inputs, targets = inputs.to('cuda'), targets.to('cuda')\n",
    "    m1_vectors_stage = model_1._network.extract_vector_stage(inputs)\n",
    "    m2_vectors_stage = model_2._network.extract_vector_stage(inputs)\n",
    "    print(i)\n"
   ]
  },
  {
   "cell_type": "code",
   "execution_count": 39,
   "metadata": {},
   "outputs": [
    {
     "data": {
      "text/plain": [
       "torch.Size([10000, 64, 8, 8])"
      ]
     },
     "execution_count": 39,
     "metadata": {},
     "output_type": "execute_result"
    }
   ],
   "source": [
    "m1_vectors_stage[2].shape"
   ]
  },
  {
   "cell_type": "code",
   "execution_count": 42,
   "metadata": {},
   "outputs": [
    {
     "data": {
      "text/plain": [
       "(10000, 32)"
      ]
     },
     "execution_count": 42,
     "metadata": {},
     "output_type": "execute_result"
    }
   ],
   "source": [
    "# 'fmaps': [x_1, x_2, x_3],\n",
    "x_1 = m1_vectors_stage[1]\n",
    "x_2 = m2_vectors_stage[1]\n",
    "\n",
    "# Promedios\n",
    "avg_x1 = x_1.mean(dim=(2, 3)).detach().numpy()  # [bs, 16]\n",
    "avg_x2 = x_2.mean(dim=(2, 3)).detach().numpy()\n",
    "\n",
    "avg_x1.shape\n"
   ]
  },
  {
   "cell_type": "code",
   "execution_count": 38,
   "metadata": {},
   "outputs": [
    {
     "name": "stdout",
     "output_type": "stream",
     "text": [
      "Linear CKA: 0.8057130688829804\n",
      "RBF Kernel CKA: 0.8479895821510914\n"
     ]
    }
   ],
   "source": [
    "# CKA\n",
    "print('Linear CKA: {}'.format(linear_CKA(avg_x1, avg_x2)))\n",
    "print('RBF Kernel CKA: {}'.format(kernel_CKA(avg_x1, avg_x2)))"
   ]
  },
  {
   "cell_type": "code",
   "execution_count": 41,
   "metadata": {},
   "outputs": [
    {
     "name": "stdout",
     "output_type": "stream",
     "text": [
      "Linear CKA: 0.3665605739498378\n",
      "RBF Kernel CKA: 0.3906476069310203\n"
     ]
    }
   ],
   "source": [
    "# CKA\n",
    "print('Linear CKA: {}'.format(linear_CKA(avg_x1, avg_x2)))\n",
    "print('RBF Kernel CKA: {}'.format(kernel_CKA(avg_x1, avg_x2)))"
   ]
  },
  {
   "cell_type": "code",
   "execution_count": 43,
   "metadata": {},
   "outputs": [
    {
     "name": "stdout",
     "output_type": "stream",
     "text": [
      "Linear CKA: 0.7855459658871228\n",
      "RBF Kernel CKA: 0.793218121828177\n"
     ]
    }
   ],
   "source": [
    "# CKA\n",
    "print('Linear CKA: {}'.format(linear_CKA(avg_x1, avg_x2)))\n",
    "print('RBF Kernel CKA: {}'.format(kernel_CKA(avg_x1, avg_x2)))"
   ]
  }
 ],
 "metadata": {
  "kernelspec": {
   "display_name": "cil",
   "language": "python",
   "name": "python3"
  },
  "language_info": {
   "codemirror_mode": {
    "name": "ipython",
    "version": 3
   },
   "file_extension": ".py",
   "mimetype": "text/x-python",
   "name": "python",
   "nbconvert_exporter": "python",
   "pygments_lexer": "ipython3",
   "version": "3.9.18"
  },
  "orig_nbformat": 4
 },
 "nbformat": 4,
 "nbformat_minor": 2
}
